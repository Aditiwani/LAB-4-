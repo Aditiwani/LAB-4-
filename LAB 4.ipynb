{
 "cells": [
  {
   "cell_type": "code",
   "execution_count": null,
   "metadata": {},
   "outputs": [],
   "source": [
    "#Create a set of variables [Name, Roll Number, Email, Class]\n",
    "#Create a function that will read the inputs and assign them to the variables created.\n",
    "#Create a function that will display the values stored in the variables.\n",
    "#Create a function to open a txt file to append the contents.\n",
    "#With the help of this function, write the contents entered by the user.\n",
    "#Make this program work until the user enters 'EXIT.'\n",
    "#The program takes the inputs from the user, saves them to a file and displays them.\n",
    "\n",
    "#Read the file contents at the end and display"
   ]
  },
  {
   "cell_type": "code",
   "execution_count": 3,
   "metadata": {},
   "outputs": [],
   "source": [
    "#set of variables\n",
    "name=\"\"\n",
    "rollno = \"\"\n",
    "email = \"\"\n",
    "Class = \"\"\n"
   ]
  },
  {
   "cell_type": "code",
   "execution_count": 4,
   "metadata": {},
   "outputs": [],
   "source": [
    "\n",
    "#read the inputs of the variables created \n",
    "def read_inputs():\n",
    "   name = input(\"Enter your name: \")\n",
    "   rollno = input(\"Enter your roll number: \")\n",
    "   email = input(\"Enter your email: \")\n",
    "   Class = input(\"Enter your class: \")\n"
   ]
  },
  {
   "cell_type": "code",
   "execution_count": 5,
   "metadata": {},
   "outputs": [],
   "source": [
    "\n",
    "#to display the user inputs \n",
    "def display_variables():\n",
    "   print(\"Name:\",name)\n",
    "   print(\"Roll Number: \", rollno)\n",
    "   print(\"Email: \", email)\n",
    "   print(\"Class: \", Class)\n",
    "   "
   ]
  },
  {
   "cell_type": "code",
   "execution_count": 6,
   "metadata": {},
   "outputs": [],
   "source": [
    "\n",
    "#to open a text file and append the variables to it.\n",
    "def open_file():\n",
    "   file = open(\"studentdetails.txt\", \"a\")\n",
    "   file.writelines([name + \"\\n\",rollno + \"\\n\",email + \"\\n\",Class + \"\\n\"])\n",
    "   file.close()\n"
   ]
  },
  {
   "cell_type": "code",
   "execution_count": 7,
   "metadata": {},
   "outputs": [],
   "source": [
    "\n",
    "#to read the text file\n",
    "def read_file():\n",
    "   file = open(\"studentdetails.txt\", \"r\")\n",
    "   print(\"Contents of file: \")\n",
    "   print(file.read())\n",
    "   file.close()\n"
   ]
  },
  {
   "cell_type": "code",
   "execution_count": 8,
   "metadata": {},
   "outputs": [
    {
     "name": "stdout",
     "output_type": "stream",
     "text": [
      "Nmae: \n",
      "Roll Number:  \n",
      "Email:  \n",
      "Class:  \n",
      "Contents of file: \n",
      "aditi\n",
      "22122302\n",
      "waniaditi1912@gmail.com\n",
      "1\n",
      "\n",
      "\n",
      "\n",
      "\n",
      "\n",
      "\n",
      "\n",
      "\n",
      "\n",
      "Do you want to enter details of another student? Enter 'EXIT' to stop.\n"
     ]
    }
   ],
   "source": [
    "\n",
    "#to loop the imputs unless stopped.\n",
    "while True:\n",
    "   read_inputs()\n",
    "   display_variables()\n",
    "   open_file()\n",
    "   read_file()\n",
    "   print(\"Do you want to enter details of another student? Enter 'EXIT' to stop.\")\n",
    "   if input() == \"EXIT\":\n",
    "      break"
   ]
  },
  {
   "cell_type": "code",
   "execution_count": null,
   "metadata": {},
   "outputs": [],
   "source": []
  }
 ],
 "metadata": {
  "kernelspec": {
   "display_name": "Python 3.10.6 64-bit",
   "language": "python",
   "name": "python3"
  },
  "language_info": {
   "codemirror_mode": {
    "name": "ipython",
    "version": 3
   },
   "file_extension": ".py",
   "mimetype": "text/x-python",
   "name": "python",
   "nbconvert_exporter": "python",
   "pygments_lexer": "ipython3",
   "version": "3.10.6"
  },
  "orig_nbformat": 4,
  "vscode": {
   "interpreter": {
    "hash": "cd3ac93cba14d5c78e9cddc58eca2f0040b28d4dbd85f8e444a11a2a90f12e9c"
   }
  }
 },
 "nbformat": 4,
 "nbformat_minor": 2
}
